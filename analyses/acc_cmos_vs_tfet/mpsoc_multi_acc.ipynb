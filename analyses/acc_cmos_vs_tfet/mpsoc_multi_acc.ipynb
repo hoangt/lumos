{
 "metadata": {
  "name": "",
  "signature": "sha256:155c429d2dddf8503531e7aca40798cb0e7e4c6a574a0acd169cc440b43923fa"
 },
 "nbformat": 3,
 "nbformat_minor": 0,
 "worksheets": [
  {
   "cells": [
    {
     "cell_type": "code",
     "collapsed": false,
     "input": [
      "from lumos.model.ptm_new.kernel import load_kernels\n",
      "from lumos.model.ptm_new.workload import load_workload\n",
      "from lumos.model.ptm_new.system import MPSoC\n",
      "from lumos.model.ptm_new.application import Application"
     ],
     "language": "python",
     "metadata": {},
     "outputs": [],
     "prompt_number": 1
    },
    {
     "cell_type": "code",
     "collapsed": false,
     "input": [],
     "language": "python",
     "metadata": {},
     "outputs": []
    }
   ],
   "metadata": {}
  }
 ]
}