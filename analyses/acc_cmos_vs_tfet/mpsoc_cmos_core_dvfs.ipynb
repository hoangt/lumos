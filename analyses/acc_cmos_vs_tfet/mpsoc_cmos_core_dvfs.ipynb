{
 "metadata": {
  "name": "",
  "signature": "sha256:c043ef4bb83ae245dd5415d5fdbc355d8ba92ed02edb7a5301f70db42293b47a"
 },
 "nbformat": 3,
 "nbformat_minor": 0,
 "worksheets": [
  {
   "cells": [
    {
     "cell_type": "code",
     "collapsed": false,
     "input": [
      "from lumos.model.ptm_new import *\n",
      "from lumos.model.ptm_new.system import MPSoC\n",
      "from lumos.model.ptm_new.application import Application"
     ],
     "language": "python",
     "metadata": {},
     "outputs": [],
     "prompt_number": 1
    },
    {
     "cell_type": "code",
     "collapsed": false,
     "input": [
      "tput_core = IOCore_CMOS(tech=22)\n",
      "soc_cmosacc = MPSoC(Sys_S, 22, tput_core=tput_core)"
     ],
     "language": "python",
     "metadata": {},
     "outputs": [],
     "prompt_number": 2
    },
    {
     "cell_type": "code",
     "collapsed": false,
     "input": [
      "ker_obj = Kernel('test_ker')\n",
      "ker_obj.add_acc('fpga', UCoreParam(miu=10))\n",
      "ker_obj.add_acc('asic_5x', UCoreParam(miu=50))\n",
      "ker_obj.add_acc('asic_10x', UCoreParam(miu=100))\n",
      "ker_obj.add_acc('asic_50x', UCoreParam(miu=500))"
     ],
     "language": "python",
     "metadata": {},
     "outputs": [],
     "prompt_number": 3
    },
    {
     "cell_type": "code",
     "collapsed": false,
     "input": [
      "app_obj = Application(f=1, name='test_app')\n",
      "app_obj.add_kernel(ker_obj, 0.1)"
     ],
     "language": "python",
     "metadata": {},
     "outputs": [
      {
       "metadata": {},
       "output_type": "pyout",
       "prompt_number": 4,
       "text": [
        "True"
       ]
      }
     ],
     "prompt_number": 4
    },
    {
     "cell_type": "code",
     "collapsed": true,
     "input": [
      "soc_cmosacc.set_asic(ker_obj, 'asic_5x', 0.2, CMOSTechModel('hp'))"
     ],
     "language": "python",
     "metadata": {},
     "outputs": [
      {
       "metadata": {},
       "output_type": "pyout",
       "prompt_number": 5,
       "text": [
        "True"
       ]
      }
     ],
     "prompt_number": 5
    },
    {
     "cell_type": "code",
     "collapsed": false,
     "input": [
      "vdd_list = (300, 400, 500, 600, 700, 800)"
     ],
     "language": "python",
     "metadata": {},
     "outputs": [],
     "prompt_number": 6
    },
    {
     "cell_type": "code",
     "collapsed": false,
     "input": [
      "for vdd in vdd_list:\n",
      "    soc_cmosacc.change_asic_vdd('asic_5x', vdd)\n",
      "    print('{0}: {1}'.format(vdd, soc_cmosacc.get_perf(app_obj)))"
     ],
     "language": "python",
     "metadata": {},
     "outputs": [
      {
       "output_type": "stream",
       "stream": "stdout",
       "text": [
        "300: {'cnum': 44, 'vdd': 626, 'perf': 17.138053749838413}\n",
        "400: {'cnum': 44, 'vdd': 626, 'perf': 33.834906925414373}\n",
        "500: {'cnum': 44, 'vdd': 626, 'perf': 38.120490776469602}\n",
        "600: {'cnum': 44, 'vdd': 626, 'perf': 38.850194182385387}\n",
        "700: {'cnum': 44, 'vdd': 626, 'perf': 39.026317742766373}\n",
        "800: {'cnum': 44, 'vdd': 626, 'perf': 39.092021535224234}\n"
       ]
      }
     ],
     "prompt_number": 7
    },
    {
     "cell_type": "code",
     "collapsed": false,
     "input": [
      "soc_tfetacc = MPSoC(Sys_S, 22, tput_core=tput_core)\n",
      "soc_tfetacc.set_asic(ker_obj, 'asic_5x', 0.2, TFETTechModel('homoTFET30nm'))"
     ],
     "language": "python",
     "metadata": {},
     "outputs": [
      {
       "metadata": {},
       "output_type": "pyout",
       "prompt_number": 8,
       "text": [
        "True"
       ]
      }
     ],
     "prompt_number": 8
    },
    {
     "cell_type": "code",
     "collapsed": false,
     "input": [
      "vdd_tfet = (100,150,200,250,300,350,400,450,500)\n",
      "for vdd in vdd_tfet:\n",
      "    soc_tfetacc.change_asic_vdd('asic_5x', vdd)\n",
      "    print('{0}: {1}'.format(vdd, soc_tfetacc.get_perf(app_obj)))"
     ],
     "language": "python",
     "metadata": {},
     "outputs": [
      {
       "output_type": "stream",
       "stream": "stdout",
       "text": [
        "100: {'cnum': 44, 'vdd': 626, 'perf': 31.625740923061535}\n",
        "150: {'cnum': 44, 'vdd': 626, 'perf': 36.642604790903789}\n",
        "200: {'cnum': 44, 'vdd': 626, 'perf': 37.939538820625685}\n",
        "250: {'cnum': 44, 'vdd': 626, 'perf': 38.433282450553961}\n",
        "300: {'cnum': 44, 'vdd': 626, 'perf': 38.671942165535484}\n",
        "350: {'cnum': 44, 'vdd': 626, 'perf': 38.805882099954374}\n",
        "400: {'cnum': 44, 'vdd': 626, 'perf': 38.889822243854915}\n",
        "450: {'cnum': 44, 'vdd': 626, 'perf': 38.94565230828357}\n",
        "500: {'cnum': 44, 'vdd': 626, 'perf': 38.989255436749382}\n"
       ]
      }
     ],
     "prompt_number": 9
    },
    {
     "cell_type": "code",
     "collapsed": false,
     "input": [
      "soc_noacc = MPSoC(Sys_S, 22, tput_core=tput_core)\n",
      "soc_noacc.get_perf(app_obj)"
     ],
     "language": "python",
     "metadata": {},
     "outputs": [
      {
       "metadata": {},
       "output_type": "pyout",
       "prompt_number": 10,
       "text": [
        "{'cnum': 55, 'vdd': 604, 'perf': 37.624837378966774}"
       ]
      }
     ],
     "prompt_number": 10
    }
   ],
   "metadata": {}
  }
 ]
}