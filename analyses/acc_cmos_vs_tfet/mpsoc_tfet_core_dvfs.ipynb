{
 "metadata": {
  "name": "",
  "signature": "sha256:6e60db0d89e59e7a0c2ac5ecc5f1f481fba1e158ece000657b8dbe5126033a71"
 },
 "nbformat": 3,
 "nbformat_minor": 0,
 "worksheets": [
  {
   "cells": [
    {
     "cell_type": "code",
     "collapsed": false,
     "input": [
      "from lumos.model.ptm_new import *\n",
      "from lumos.model.ptm_new.system import MPSoC\n",
      "from lumos.model.ptm_new.application import Application"
     ],
     "language": "python",
     "metadata": {},
     "outputs": [],
     "prompt_number": 1
    },
    {
     "cell_type": "code",
     "collapsed": false,
     "input": [
      "tput_core = IOCore_TFET(tech=22)\n",
      "soc_cmosacc = MPSoC(Sys_S, 22, tput_core=tput_core)"
     ],
     "language": "python",
     "metadata": {},
     "outputs": [],
     "prompt_number": 2
    },
    {
     "cell_type": "code",
     "collapsed": false,
     "input": [
      "ker_obj = Kernel('test_ker')\n",
      "ker_obj.add_acc('fpga', UCoreParam(miu=10))\n",
      "ker_obj.add_acc('asic_5x', UCoreParam(miu=50))\n",
      "ker_obj.add_acc('asic_10x', UCoreParam(miu=100))\n",
      "ker_obj.add_acc('asic_50x', UCoreParam(miu=500))"
     ],
     "language": "python",
     "metadata": {},
     "outputs": [],
     "prompt_number": 3
    },
    {
     "cell_type": "code",
     "collapsed": false,
     "input": [
      "app_obj = Application(f=1, name='test_app')\n",
      "app_obj.add_kernel(ker_obj, 0.2)"
     ],
     "language": "python",
     "metadata": {},
     "outputs": [
      {
       "metadata": {},
       "output_type": "pyout",
       "prompt_number": 4,
       "text": [
        "True"
       ]
      }
     ],
     "prompt_number": 4
    },
    {
     "cell_type": "code",
     "collapsed": true,
     "input": [
      "soc_cmosacc.set_asic(ker_obj, 'asic_5x', 0.1, CMOSTechModel('hp'))"
     ],
     "language": "python",
     "metadata": {},
     "outputs": [
      {
       "metadata": {},
       "output_type": "pyout",
       "prompt_number": 5,
       "text": [
        "True"
       ]
      }
     ],
     "prompt_number": 5
    },
    {
     "cell_type": "code",
     "collapsed": false,
     "input": [
      "vdd_list = (300, 400, 500, 600, 700, 800)"
     ],
     "language": "python",
     "metadata": {},
     "outputs": [],
     "prompt_number": 6
    },
    {
     "cell_type": "code",
     "collapsed": false,
     "input": [
      "for vdd in vdd_list:\n",
      "    soc_cmosacc.change_asic_vdd('asic_5x', vdd)\n",
      "    print('{0}: {1}'.format(vdd, soc_cmosacc.get_perf(app_obj)))"
     ],
     "language": "python",
     "metadata": {},
     "outputs": [
      {
       "output_type": "stream",
       "stream": "stdout",
       "text": [
        "300: {'cnum': 50, 'perf': 6.62227317588086, 'vdd': 429}\n",
        "400: {'cnum': 50, 'perf': 27.911192615140997, 'vdd': 429}\n",
        "500: {'cnum': 50, 'perf': 44.3709626749229, 'vdd': 429}\n",
        "600: {'cnum': 50, 'perf': 48.622980920137842, 'vdd': 429}\n",
        "700: {'cnum': 50, 'perf': 49.746897979361101, 'vdd': 429}\n",
        "800: {'cnum': 50, 'perf': 50.176904053583364, 'vdd': 429}\n"
       ]
      }
     ],
     "prompt_number": 7
    },
    {
     "cell_type": "code",
     "collapsed": false,
     "input": [
      "soc_tfetacc = MPSoC(Sys_S, 22, tput_core=tput_core)\n",
      "soc_tfetacc.set_asic(ker_obj, 'asic_5x', 0.1, TFETTechModel('homoTFET30nm'))"
     ],
     "language": "python",
     "metadata": {},
     "outputs": [
      {
       "metadata": {},
       "output_type": "pyout",
       "prompt_number": 8,
       "text": [
        "True"
       ]
      }
     ],
     "prompt_number": 8
    },
    {
     "cell_type": "code",
     "collapsed": false,
     "input": [
      "vdd_tfet = (100,150,200,250,300,350,400,450,500)\n",
      "for vdd in vdd_tfet:\n",
      "    soc_tfetacc.change_asic_vdd('asic_5x', vdd)\n",
      "    print('{0}: {1}'.format(vdd, soc_tfetacc.get_perf(app_obj)))"
     ],
     "language": "python",
     "metadata": {},
     "outputs": [
      {
       "output_type": "stream",
       "stream": "stdout",
       "text": [
        "100: {'cnum': 50, 'perf': 22.682902608917804, 'vdd': 429}\n",
        "150: {'cnum': 50, 'perf': 37.356136615407458, 'vdd': 429}\n",
        "200: {'cnum': 50, 'perf': 43.407062649584127, 'vdd': 429}\n",
        "250: {'cnum': 50, 'perf': 46.11848652963856, 'vdd': 429}\n",
        "300: {'cnum': 50, 'perf': 47.526298607453114, 'vdd': 429}\n",
        "350: {'cnum': 50, 'perf': 48.346605785186647, 'vdd': 429}\n",
        "400: {'cnum': 50, 'perf': 48.872289908386115, 'vdd': 429}\n",
        "450: {'cnum': 50, 'perf': 49.22702113816662, 'vdd': 429}\n",
        "500: {'cnum': 50, 'perf': 49.50694725604869, 'vdd': 429}\n"
       ]
      }
     ],
     "prompt_number": 9
    },
    {
     "cell_type": "heading",
     "level": 1,
     "metadata": {},
     "source": [
      "soc_noacc = MPSoC(Sys_S, 22, tput_core=tput_core)\n",
      "soc_noacc.get_perf(app_obj)"
     ]
    }
   ],
   "metadata": {}
  }
 ]
}