{
 "metadata": {
  "name": "",
  "signature": "sha256:01ae78a6e5a98dd99576f0b392292677de894dedf0bd1f7138c54f58035526cb"
 },
 "nbformat": 3,
 "nbformat_minor": 0,
 "worksheets": [
  {
   "cells": [
    {
     "cell_type": "code",
     "collapsed": false,
     "input": [
      "from lumos.model.ptm_new.accelerator import Accelerator\n",
      "from lumos.model.ptm_new.kernel import Kernel, UCoreParam\n",
      "from lumos.model.ptm_new.tech import TFETTechModel, CMOSTechModel"
     ],
     "language": "python",
     "metadata": {},
     "outputs": [],
     "prompt_number": 6
    },
    {
     "cell_type": "code",
     "collapsed": false,
     "input": [
      "        ker_obj = Kernel('test_ker')\n",
      "        ker_obj.add_acc('fpga', UCoreParam(miu=10))\n",
      "        ker_obj.add_acc('asic_5x', UCoreParam(miu=50))\n",
      "        ker_obj.add_acc('asic_10x', UCoreParam(miu=100))\n",
      "        ker_obj.add_acc('asic_50x', UCoreParam(miu=500))\n",
      "        tfet_tech_model = TFETTechModel('homoTFET30nm')\n",
      "        cmos_tech_model = CMOSTechModel('hp')"
     ],
     "language": "python",
     "metadata": {},
     "outputs": [],
     "prompt_number": 7
    },
    {
     "cell_type": "code",
     "collapsed": false,
     "input": [
      "acc_cmos = Accelerator('asic_5x', ker_obj, 10, 22, cmos_tech_model)\n",
      "acc_tfet = Accelerator('asic_5x', ker_obj, 10, 22, tfet_tech_model)"
     ],
     "language": "python",
     "metadata": {},
     "outputs": [],
     "prompt_number": 8
    },
    {
     "cell_type": "code",
     "collapsed": false,
     "input": [
      "acc_cmos.perf(power=33), acc_cmos.power, acc_cmos.vdd"
     ],
     "language": "python",
     "metadata": {},
     "outputs": [
      {
       "metadata": {},
       "output_type": "pyout",
       "prompt_number": 9,
       "text": [
        "(4363.5233160621756, 0.0068310880829015545, 700)"
       ]
      }
     ],
     "prompt_number": 9
    },
    {
     "cell_type": "code",
     "collapsed": false,
     "input": [
      "acc_tfet.perf(power=33), acc_tfet.power, acc_tfet.vdd"
     ],
     "language": "python",
     "metadata": {},
     "outputs": [
      {
       "metadata": {},
       "output_type": "pyout",
       "prompt_number": 10,
       "text": [
        "(2644.5595854922281, 0.0023039082910291924, 400)"
       ]
      }
     ],
     "prompt_number": 10
    }
   ],
   "metadata": {}
  }
 ]
}